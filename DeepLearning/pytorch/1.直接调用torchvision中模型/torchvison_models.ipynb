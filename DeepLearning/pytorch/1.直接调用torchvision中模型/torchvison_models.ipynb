{
 "cells": [
  {
   "cell_type": "markdown",
   "metadata": {},
   "source": [
    "直接使用torchvision中的模型"
   ]
  },
  {
   "cell_type": "code",
   "execution_count": 1,
   "metadata": {},
   "outputs": [
    {
     "name": "stderr",
     "output_type": "stream",
     "text": [
      "/home/hzt/.conda/envs/pytorchEnv/lib/python3.8/site-packages/tqdm/auto.py:22: TqdmWarning: IProgress not found. Please update jupyter and ipywidgets. See https://ipywidgets.readthedocs.io/en/stable/user_install.html\n",
      "  from .autonotebook import tqdm as notebook_tqdm\n"
     ]
    }
   ],
   "source": [
    "import torch \n",
    "import torch.nn as nn\n",
    "import torchvision\n",
    "import torchvision.transforms as transforms\n",
    "from torch.utils.data import Dataset, DataLoader"
   ]
  },
  {
   "cell_type": "markdown",
   "metadata": {},
   "source": [
    "## 超参数"
   ]
  },
  {
   "cell_type": "code",
   "execution_count": null,
   "metadata": {},
   "outputs": [],
   "source": [
    "EPOCHS = 10\n",
    "LR = 0.001\n",
    "BATCHSIZE = 64"
   ]
  },
  {
   "cell_type": "markdown",
   "metadata": {},
   "source": [
    "## 使用MNIST数据集"
   ]
  },
  {
   "cell_type": "code",
   "execution_count": null,
   "metadata": {},
   "outputs": [],
   "source": [
    "transform = transforms.Compose([transforms.ToTensor(),\n",
    "                               transforms.Normalize(mean=[0.5],std=[0.5])])\n",
    "                               \n",
    "train_data = torchvision.datasets.MNIST(root = \"./data/\",\n",
    "                            transform=transform,\n",
    "                            train = True,\n",
    "                            download = True)\n",
    "test_data = torchvision.datasets.MNIST(root=\"./data/\",\n",
    "                           transform = transform,\n",
    "                           train = False)\n",
    "                           \n",
    "train_loader = DataLoader(train_data,batch_size=BATCHSIZE,shuffle=True,num_workers=4)\n",
    "test_loader = DataLoader(test_data,batch_size=BATCHSIZE,shuffle=True,num_workers=4)"
   ]
  },
  {
   "cell_type": "markdown",
   "metadata": {},
   "source": [
    "## 使用CIFAR10数据集"
   ]
  },
  {
   "cell_type": "code",
   "execution_count": null,
   "metadata": {},
   "outputs": [],
   "source": [
    "transform_train = transforms.Compose([\n",
    "    transforms.ToTensor(),\n",
    "    transforms.Normalize((0.5,0.5,0.5),(0.5,0.5,0.5))\n",
    "])\n",
    "transforms_test = transforms.Compose([\n",
    "    transforms.ToTensor(),\n",
    "    transforms.Normalize((0.5,0.5,0.5),(0.5,0.5,0.5))])\n",
    "\n",
    "train_data = torchvision.datasets.CIFAR10(root=\"./data/\",train=True,\n",
    "                                transform=transform_train,\n",
    "                                download=True)\n",
    "test_data = torchvision.datasets.CIFAR10(root=\"./data/\",train=False,\n",
    "                                transform=transforms_test,\n",
    "                                download=True)\n",
    "print(\"train_size:\", len(train_data))\n",
    "print(\"test_size: \", len(test_data))\n",
    "\n",
    "train_dataloader = DataLoader(dataset=train_data,batch_size=BATCHSIZE,shuffle=True)\n",
    "test_dataloader = DataLoader(dataset=test_data,batch_size=BATCHSIZE,shuffle=True)"
   ]
  },
  {
   "cell_type": "markdown",
   "metadata": {},
   "source": [
    "## 加载Models"
   ]
  },
  {
   "cell_type": "code",
   "execution_count": null,
   "metadata": {},
   "outputs": [],
   "source": [
    "# 1.调用模型\n",
    "ResNet18 = torchvision.models.resnet18(pretrained=False)\n",
    "# 1.1 如果使用MNIST数据集，由于图片是[1, 28, 28]的，通道数量为1,因此需要修改模型中输入层的in_channels\n",
    "ResNet18.conv1 = nn.Conv2d(1, 64, 7)\n",
    "# 2.提取fc层中固定的参数\n",
    "fc_features = ResNet18.fc.in_features\n",
    "# 3.修改输出的类别为10\n",
    "ResNet18.fc = nn.Linear(fc_features, 10)\n",
    "# 调整参数后，加载部分参数\n",
    "model_dict = ResNet18.state_dict()"
   ]
  },
  {
   "cell_type": "code",
   "execution_count": null,
   "metadata": {},
   "outputs": [],
   "source": [
    "x = torch.randn(2, 3, 224, 224) # 两张三通道(RGB)224 * 224大小的图片\n",
    "out = ResNet18(x)\n",
    "print(x.shape)\n",
    "print(out.shape)\n",
    "# print(\"打印模型：\")\n",
    "# print(model)"
   ]
  }
 ],
 "metadata": {
  "kernelspec": {
   "display_name": "Python 3.8.13 ('pytorchEnv')",
   "language": "python",
   "name": "python3"
  },
  "language_info": {
   "codemirror_mode": {
    "name": "ipython",
    "version": 3
   },
   "file_extension": ".py",
   "mimetype": "text/x-python",
   "name": "python",
   "nbconvert_exporter": "python",
   "pygments_lexer": "ipython3",
   "version": "3.8.13"
  },
  "orig_nbformat": 4,
  "vscode": {
   "interpreter": {
    "hash": "dc2ff19e16bd5146c4cd36177ad023be1cbfc1528e151b684a971767d89cf6ed"
   }
  }
 },
 "nbformat": 4,
 "nbformat_minor": 2
}
